{
 "cells": [
  {
   "cell_type": "markdown",
   "id": "d8b78b10",
   "metadata": {},
   "source": [
    "Load the packages we need"
   ]
  },
  {
   "cell_type": "code",
   "execution_count": 5,
   "id": "ca2c5926",
   "metadata": {},
   "outputs": [],
   "source": [
    "import numpy as np"
   ]
  },
  {
   "cell_type": "markdown",
   "id": "33c32355",
   "metadata": {},
   "source": [
    "Examples of effects of roundoff error.\n",
    "1) The order of addititon of numbers in a computer matters. "
   ]
  },
  {
   "cell_type": "code",
   "execution_count": 6,
   "id": "32f847a7",
   "metadata": {},
   "outputs": [
    {
     "name": "stdout",
     "output_type": "stream",
     "text": [
      "x =  1.0\n",
      "y =  1.0000000000000016\n"
     ]
    }
   ],
   "source": [
    "x = 1+1e-16+1e-16+1e-16+1e-16+1e-16+1e-16+1e-16+1e-16+1e-16+1e-16+1e-16+1e-16+1e-16+1e-16+1e-16+1e-16\n",
    "y = 1e-16+1e-16+1e-16+1e-16+1e-16+1e-16+1e-16+1e-16+1e-16+1e-16+1e-16+1e-16+1e-16+1e-16+1e-16+1e-16+1\n",
    "print(\"x = \", x)\n",
    "print(\"y = \", y)"
   ]
  },
  {
   "cell_type": "markdown",
   "id": "52260123",
   "metadata": {},
   "source": [
    "Consider the function: $\\large{f(x)=\\frac{e^{x}-e^{-x}}{x}}$\n",
    "\n",
    "And we want to evaluate $\\large{\\lim_\\limits{x \\rightarrow 0} f(x)}$"
   ]
  },
  {
   "cell_type": "code",
   "execution_count": 26,
   "id": "83406342",
   "metadata": {},
   "outputs": [
    {
     "name": "stdout",
     "output_type": "stream",
     "text": [
      "   1e-05              2.0000000000242046\n",
      "   1e-06              1.999999999946489\n",
      "   1e-07              1.9999999989472883\n",
      "   1e-08              1.999999987845058\n",
      "   1e-09              2.0000000544584395\n",
      "   1e-10              2.000000165480742\n",
      "   1e-11              2.000000165480742\n",
      "   1e-12              2.0000667788622195\n",
      "   1e-13              1.999511667349907\n",
      "   1e-14              1.9984014443252818\n",
      "   1e-15              2.1094237467877974\n",
      "   1e-16              1.1102230246251565\n",
      "   1e-17              0.0\n",
      "   1e-18              0.0\n",
      "   1e-19              0.0\n",
      "   1e-20              0.0\n"
     ]
    }
   ],
   "source": [
    "def f1(x):\n",
    "    return (np.exp(x)-np.exp(-x))/x\n",
    "\n",
    "for i in range(5, 21):\n",
    "    x = 10**(-1*i)\n",
    "    print(\"  \", x, \"            \", f1(x))"
   ]
  },
  {
   "cell_type": "code",
   "execution_count": 27,
   "id": "fcbb562d",
   "metadata": {},
   "outputs": [
    {
     "name": "stdout",
     "output_type": "stream",
     "text": [
      "   1e-05              2.0000000000333333\n",
      "   1e-06              2.0000000000003335\n",
      "   1e-07              2.0000000000000036\n",
      "   1e-08              2.0\n",
      "   1e-09              2.0\n",
      "   1e-10              2.0\n",
      "   1e-11              2.0\n",
      "   1e-12              2.0\n",
      "   1e-13              2.0\n",
      "   1e-14              2.0\n",
      "   1e-15              2.0\n",
      "   1e-16              2.0\n",
      "   1e-17              2.0\n",
      "   1e-18              2.0\n",
      "   1e-19              2.0\n",
      "   1e-20              2.0\n"
     ]
    }
   ],
   "source": [
    "def f2(x):\n",
    "    return 2+x*x/3\n",
    "\n",
    "for i in range(5,21):\n",
    "    x = 10**(-1*i)\n",
    "    print(\"  \", x, \"            \", f2(x))"
   ]
  },
  {
   "cell_type": "code",
   "execution_count": 58,
   "id": "8f429939-ca19-4b61-ad08-857abff9b872",
   "metadata": {},
   "outputs": [
    {
     "name": "stdout",
     "output_type": "stream",
     "text": [
      "x =  1.0\n",
      "y =  1.0000000000000009\n"
     ]
    }
   ],
   "source": [
    "x = 1+1e-16+1e-16+1e-16+1e-16+1e-16+1e-16+1e-16+1e-16+1e-16+1e-16+1e-16+1e-16+1e-16+1e-16+1e-16+1e-16\n",
    "y = 1e-16+1e-16+1e-16+1e-16+1e-16+1e-16+1e-16+1e-16+1\n",
    "print(\"x = \", x)\n",
    "print(\"y = \", y)"
   ]
  },
  {
   "cell_type": "code",
   "execution_count": 46,
   "id": "be837244-bdf5-4ccf-949b-789456b0d6a6",
   "metadata": {},
   "outputs": [
    {
     "data": {
      "text/plain": [
       "1.0000000000000002"
      ]
     },
     "execution_count": 46,
     "metadata": {},
     "output_type": "execute_result"
    }
   ],
   "source": [
    "y=1e-17+1e-17+1e-17+1e-17+1e-17+1e-17+1e-17+1e-17+1e-17+1e-17+1e-17+1e-17+1\n",
    "y"
   ]
  },
  {
   "cell_type": "code",
   "execution_count": 76,
   "id": "e29560eb-abd1-47f7-a489-8aece9e55509",
   "metadata": {},
   "outputs": [
    {
     "name": "stdout",
     "output_type": "stream",
     "text": [
      "# 1    1e-16+1\n",
      "1.0\n",
      "\n",
      "# 2    1e-16+1e-16+1\n",
      "1.0000000000000002\n",
      "\n",
      "# 3    1e-16+1e-16+1e-16+1\n",
      "1.0000000000000002\n",
      "\n",
      "# 4    1e-16+1e-16+1e-16+1e-16+1\n",
      "1.0000000000000004\n",
      "\n",
      "# 5    1e-16+1e-16+1e-16+1e-16+1e-16+1\n",
      "1.0000000000000004\n",
      "\n",
      "# 6    1e-16+1e-16+1e-16+1e-16+1e-16+1e-16+1\n",
      "1.0000000000000007\n",
      "\n",
      "# 7    1e-16+1e-16+1e-16+1e-16+1e-16+1e-16+1e-16+1\n",
      "1.0000000000000007\n",
      "\n",
      "# 8    1e-16+1e-16+1e-16+1e-16+1e-16+1e-16+1e-16+1e-16+1\n",
      "1.0000000000000009\n",
      "\n",
      "# 9    1e-16+1e-16+1e-16+1e-16+1e-16+1e-16+1e-16+1e-16+1e-16+1\n",
      "1.0000000000000009\n",
      "\n",
      "# 10    1e-16+1e-16+1e-16+1e-16+1e-16+1e-16+1e-16+1e-16+1e-16+1e-16+1\n",
      "1.000000000000001\n",
      "\n",
      "# 11    1e-16+1e-16+1e-16+1e-16+1e-16+1e-16+1e-16+1e-16+1e-16+1e-16+1e-16+1\n",
      "1.000000000000001\n",
      "\n",
      "# 12    1e-16+1e-16+1e-16+1e-16+1e-16+1e-16+1e-16+1e-16+1e-16+1e-16+1e-16+1e-16+1\n",
      "1.000000000000001\n",
      "\n",
      "# 13    1e-16+1e-16+1e-16+1e-16+1e-16+1e-16+1e-16+1e-16+1e-16+1e-16+1e-16+1e-16+1e-16+1\n",
      "1.0000000000000013\n",
      "\n",
      "# 14    1e-16+1e-16+1e-16+1e-16+1e-16+1e-16+1e-16+1e-16+1e-16+1e-16+1e-16+1e-16+1e-16+1e-16+1\n",
      "1.0000000000000013\n",
      "\n",
      "# 15    1e-16+1e-16+1e-16+1e-16+1e-16+1e-16+1e-16+1e-16+1e-16+1e-16+1e-16+1e-16+1e-16+1e-16+1e-16+1\n",
      "1.0000000000000016\n",
      "\n",
      "# 16    1e-16+1e-16+1e-16+1e-16+1e-16+1e-16+1e-16+1e-16+1e-16+1e-16+1e-16+1e-16+1e-16+1e-16+1e-16+1e-16+1\n",
      "1.0000000000000016\n",
      "\n",
      "# 17    1e-16+1e-16+1e-16+1e-16+1e-16+1e-16+1e-16+1e-16+1e-16+1e-16+1e-16+1e-16+1e-16+1e-16+1e-16+1e-16+1e-16+1\n",
      "1.0000000000000018\n",
      "\n",
      "# 18    1e-16+1e-16+1e-16+1e-16+1e-16+1e-16+1e-16+1e-16+1e-16+1e-16+1e-16+1e-16+1e-16+1e-16+1e-16+1e-16+1e-16+1e-16+1\n",
      "1.0000000000000018\n",
      "\n",
      "# 19    1e-16+1e-16+1e-16+1e-16+1e-16+1e-16+1e-16+1e-16+1e-16+1e-16+1e-16+1e-16+1e-16+1e-16+1e-16+1e-16+1e-16+1e-16+1e-16+1\n",
      "1.000000000000002\n",
      "\n",
      "# 20    1e-16+1e-16+1e-16+1e-16+1e-16+1e-16+1e-16+1e-16+1e-16+1e-16+1e-16+1e-16+1e-16+1e-16+1e-16+1e-16+1e-16+1e-16+1e-16+1e-16+1\n",
      "1.000000000000002\n",
      "\n",
      "# 21    1e-16+1e-16+1e-16+1e-16+1e-16+1e-16+1e-16+1e-16+1e-16+1e-16+1e-16+1e-16+1e-16+1e-16+1e-16+1e-16+1e-16+1e-16+1e-16+1e-16+1e-16+1\n",
      "1.000000000000002\n",
      "\n",
      "# 22    1e-16+1e-16+1e-16+1e-16+1e-16+1e-16+1e-16+1e-16+1e-16+1e-16+1e-16+1e-16+1e-16+1e-16+1e-16+1e-16+1e-16+1e-16+1e-16+1e-16+1e-16+1e-16+1\n",
      "1.0000000000000022\n",
      "\n",
      "# 23    1e-16+1e-16+1e-16+1e-16+1e-16+1e-16+1e-16+1e-16+1e-16+1e-16+1e-16+1e-16+1e-16+1e-16+1e-16+1e-16+1e-16+1e-16+1e-16+1e-16+1e-16+1e-16+1e-16+1\n",
      "1.0000000000000022\n",
      "\n",
      "# 24    1e-16+1e-16+1e-16+1e-16+1e-16+1e-16+1e-16+1e-16+1e-16+1e-16+1e-16+1e-16+1e-16+1e-16+1e-16+1e-16+1e-16+1e-16+1e-16+1e-16+1e-16+1e-16+1e-16+1e-16+1\n",
      "1.0000000000000024\n",
      "\n"
     ]
    }
   ],
   "source": [
    "for i in range(1,25):\n",
    "    s=0\n",
    "    string=\"\"\n",
    "    for j in range(1,i+1):\n",
    "        s+=1e-16\n",
    "        string+=\"1e-16+\"\n",
    "    s+=1\n",
    "    string+='1'\n",
    "    print(\"#\",i,\"  \",string)\n",
    "    print(s)\n",
    "    print()\n"
   ]
  },
  {
   "cell_type": "code",
   "execution_count": null,
   "id": "c3a8e214-7eb5-4962-a149-a199d4738150",
   "metadata": {},
   "outputs": [],
   "source": []
  }
 ],
 "metadata": {
  "kernelspec": {
   "display_name": "Python 3 (ipykernel)",
   "language": "python",
   "name": "python3"
  },
  "language_info": {
   "codemirror_mode": {
    "name": "ipython",
    "version": 3
   },
   "file_extension": ".py",
   "mimetype": "text/x-python",
   "name": "python",
   "nbconvert_exporter": "python",
   "pygments_lexer": "ipython3",
   "version": "3.9.13"
  }
 },
 "nbformat": 4,
 "nbformat_minor": 5
}
